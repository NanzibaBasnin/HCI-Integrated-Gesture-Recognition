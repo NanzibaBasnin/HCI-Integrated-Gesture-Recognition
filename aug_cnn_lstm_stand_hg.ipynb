{
  "nbformat": 4,
  "nbformat_minor": 0,
  "metadata": {
    "colab": {
      "provenance": [],
      "authorship_tag": "ABX9TyMRa7NhRWeDyHP74aKZay0K",
      "include_colab_link": true
    },
    "kernelspec": {
      "name": "python3",
      "display_name": "Python 3"
    }
  },
  "cells": [
    {
      "cell_type": "markdown",
      "metadata": {
        "id": "view-in-github",
        "colab_type": "text"
      },
      "source": [
        "<a href=\"https://colab.research.google.com/github/NanzibaBasnin/HCI-Integrated-Gesture-Recognition/blob/main/aug_cnn_lstm_stand_hg.ipynb\" target=\"_parent\"><img src=\"https://colab.research.google.com/assets/colab-badge.svg\" alt=\"Open In Colab\"/></a>"
      ]
    },
    {
      "cell_type": "code",
      "metadata": {
        "id": "O3fMIxyqdLN8",
        "outputId": "99667bf9-3bad-432d-c90b-96b8b587fc4e",
        "colab": {
          "base_uri": "https://localhost:8080/",
          "height": 128
        }
      },
      "source": [
        "%matplotlib inline\n",
        "from google.colab import drive\n",
        "#import zipfile\n",
        "drive.mount('/content/gdrive')\n",
        "#zip_ref = zipfile.ZipFile('/content/gdrive/My Drive/handgesture.zip', 'r')\n",
        "#zip_ref.extractall(\"/tmp\")\n",
        "#zip_ref.close()\n",
        "#!unzip leapGestRecog.zip\n",
        "import os"
      ],
      "execution_count": null,
      "outputs": [
        {
          "output_type": "stream",
          "text": [
            "Go to this URL in a browser: https://accounts.google.com/o/oauth2/auth?client_id=947318989803-6bn6qk8qdgf4n4g3pfee6491hc0brc4i.apps.googleusercontent.com&redirect_uri=urn%3aietf%3awg%3aoauth%3a2.0%3aoob&response_type=code&scope=email%20https%3a%2f%2fwww.googleapis.com%2fauth%2fdocs.test%20https%3a%2f%2fwww.googleapis.com%2fauth%2fdrive%20https%3a%2f%2fwww.googleapis.com%2fauth%2fdrive.photos.readonly%20https%3a%2f%2fwww.googleapis.com%2fauth%2fpeopleapi.readonly\n",
            "\n",
            "Enter your authorization code:\n",
            "··········\n",
            "Mounted at /content/gdrive\n"
          ],
          "name": "stdout"
        }
      ]
    },
    {
      "cell_type": "code",
      "metadata": {
        "id": "GtgmOg3Hdzkk",
        "outputId": "b468a638-fe77-4aed-8ccf-d5a10355134b",
        "colab": {
          "base_uri": "https://localhost:8080/",
          "height": 83
        }
      },
      "source": [
        "from __future__ import print_function\n",
        "import keras\n",
        "from keras.preprocessing.image import ImageDataGenerator\n",
        "from keras.models import Sequential\n",
        "from keras.layers import Dense, Dropout, Activation, Flatten\n",
        "from keras.layers import Conv2D, MaxPooling2D\n",
        "import os\n"
      ],
      "execution_count": null,
      "outputs": [
        {
          "output_type": "stream",
          "text": [
            "Using TensorFlow backend.\n"
          ],
          "name": "stderr"
        },
        {
          "output_type": "display_data",
          "data": {
            "text/html": [
              "<p style=\"color: red;\">\n",
              "The default version of TensorFlow in Colab will soon switch to TensorFlow 2.x.<br>\n",
              "We recommend you <a href=\"https://www.tensorflow.org/guide/migrate\" target=\"_blank\">upgrade</a> now \n",
              "or ensure your notebook will continue to use TensorFlow 1.x via the <code>%tensorflow_version 1.x</code> magic:\n",
              "<a href=\"https://colab.research.google.com/notebooks/tensorflow_version.ipynb\" target=\"_blank\">more info</a>.</p>\n"
            ],
            "text/plain": [
              "<IPython.core.display.HTML object>"
            ]
          },
          "metadata": {
            "tags": []
          }
        }
      ]
    },
    {
      "cell_type": "code",
      "metadata": {
        "id": "47rVz9RXd5w5"
      },
      "source": [
        "num_classes = 10\n",
        "img_rows, img_cols = 50, 50\n",
        "batch_size = 16"
      ],
      "execution_count": null,
      "outputs": []
    },
    {
      "cell_type": "code",
      "metadata": {
        "id": "_4C1c_1reBSC"
      },
      "source": [
        "from keras.preprocessing.image import ImageDataGenerator\n",
        "\n",
        "train_data_dir = './gdrive/My Drive/HG_new/train'\n",
        "validation_data_dir = './gdrive/My Drive/HG_new/test'"
      ],
      "execution_count": null,
      "outputs": []
    },
    {
      "cell_type": "code",
      "metadata": {
        "id": "EUIxloL0fkMp",
        "outputId": "af992b2b-d83a-422c-a702-e930127d8166",
        "colab": {
          "base_uri": "https://localhost:8080/",
          "height": 53
        }
      },
      "source": [
        "# Let's use some data augmentaiton\n",
        "train_datagen = ImageDataGenerator(\n",
        "      rescale=1./255,\n",
        "      rotation_range=30,\n",
        "      width_shift_range=0.3,\n",
        "      height_shift_range=0.3,\n",
        "      horizontal_flip=True,\n",
        "      fill_mode='nearest')\n",
        "\n",
        "validation_datagen = ImageDataGenerator(rescale=1./255)\n",
        "\n",
        "train_generator = train_datagen.flow_from_directory(\n",
        "        train_data_dir,\n",
        "        target_size=(img_rows, img_cols),\n",
        "        batch_size=batch_size,\n",
        "        class_mode='categorical',\n",
        "        shuffle=True)\n",
        "\n",
        "validation_generator = validation_datagen.flow_from_directory(\n",
        "        validation_data_dir,\n",
        "        target_size=(img_rows, img_cols),\n",
        "        batch_size=batch_size,\n",
        "        class_mode='categorical',\n",
        "        shuffle=False)"
      ],
      "execution_count": null,
      "outputs": [
        {
          "output_type": "stream",
          "text": [
            "Found 7001 images belonging to 10 classes.\n",
            "Found 3003 images belonging to 10 classes.\n"
          ],
          "name": "stdout"
        }
      ]
    },
    {
      "cell_type": "code",
      "metadata": {
        "id": "C849WJGAf1Lr",
        "outputId": "8094364e-91c1-4373-a35f-d4a6058f75de",
        "colab": {
          "base_uri": "https://localhost:8080/",
          "height": 1000
        }
      },
      "source": [
        "from keras.layers import TimeDistributed\n",
        "from keras.layers import LSTM, Dense\n",
        "from keras.optimizers import RMSprop, SGD, Adam\n",
        "from keras import optimizers\n",
        "\n",
        "\n",
        "model = Sequential()\n",
        "\n",
        "# Padding = 'same'  results in padding the input such that\n",
        "# the output has the same length as the original input\n",
        "model.add(Conv2D(32, (5, 5), padding='same',\n",
        "                 input_shape= (img_rows, img_cols, 3)))\n",
        "model.add(Activation('relu'))\n",
        "model.add(Conv2D(64, (3, 3)))\n",
        "model.add(Activation('relu'))\n",
        "model.add(MaxPooling2D(pool_size=(2, 2)))\n",
        "model.add(Dropout(0.25))\n",
        "\n",
        "model.add(Conv2D(64, (3, 3), padding='same'))\n",
        "model.add(Activation('relu'))\n",
        "model.add(Conv2D(64, (3, 3)))\n",
        "model.add(Activation('relu'))\n",
        "model.add(MaxPooling2D(pool_size=(2, 2)))\n",
        "model.add(Dropout(0.25))\n",
        "\n",
        "model.add(TimeDistributed(Flatten()))\n",
        "model.add(LSTM(200))\n",
        "model.add(Dropout(0.25))\n",
        "model.add(Dense(128))\n",
        "model.add(Activation('relu'))\n",
        "model.add(Dropout(0.25))\n",
        "model.add(Dense(num_classes))\n",
        "model.add(Activation('softmax'))\n",
        "\n",
        "# We use a very small learning rate\n",
        "sgd = optimizers.SGD(lr=0.001, momentum=0.9, nesterov=True)\n",
        "model.compile(optimizer=sgd, loss='categorical_crossentropy', metrics=['accuracy'])\n",
        "\n",
        "\n",
        "\n",
        "\n",
        "\n",
        "# initiate RMSprop optimizer and configure some parameters\n",
        "#opt = keras.optimizers.rmsprop(lr=0.0001, decay=1e-6)\n",
        "print(model.summary())"
      ],
      "execution_count": null,
      "outputs": [
        {
          "output_type": "stream",
          "text": [
            "WARNING:tensorflow:From /usr/local/lib/python3.6/dist-packages/keras/backend/tensorflow_backend.py:66: The name tf.get_default_graph is deprecated. Please use tf.compat.v1.get_default_graph instead.\n",
            "\n",
            "WARNING:tensorflow:From /usr/local/lib/python3.6/dist-packages/keras/backend/tensorflow_backend.py:541: The name tf.placeholder is deprecated. Please use tf.compat.v1.placeholder instead.\n",
            "\n",
            "WARNING:tensorflow:From /usr/local/lib/python3.6/dist-packages/keras/backend/tensorflow_backend.py:4432: The name tf.random_uniform is deprecated. Please use tf.random.uniform instead.\n",
            "\n",
            "WARNING:tensorflow:From /usr/local/lib/python3.6/dist-packages/keras/backend/tensorflow_backend.py:4267: The name tf.nn.max_pool is deprecated. Please use tf.nn.max_pool2d instead.\n",
            "\n",
            "WARNING:tensorflow:From /usr/local/lib/python3.6/dist-packages/keras/backend/tensorflow_backend.py:148: The name tf.placeholder_with_default is deprecated. Please use tf.compat.v1.placeholder_with_default instead.\n",
            "\n",
            "WARNING:tensorflow:From /usr/local/lib/python3.6/dist-packages/keras/backend/tensorflow_backend.py:3733: calling dropout (from tensorflow.python.ops.nn_ops) with keep_prob is deprecated and will be removed in a future version.\n",
            "Instructions for updating:\n",
            "Please use `rate` instead of `keep_prob`. Rate should be set to `rate = 1 - keep_prob`.\n",
            "WARNING:tensorflow:From /usr/local/lib/python3.6/dist-packages/keras/optimizers.py:793: The name tf.train.Optimizer is deprecated. Please use tf.compat.v1.train.Optimizer instead.\n",
            "\n",
            "WARNING:tensorflow:From /usr/local/lib/python3.6/dist-packages/keras/backend/tensorflow_backend.py:3576: The name tf.log is deprecated. Please use tf.math.log instead.\n",
            "\n",
            "Model: \"sequential_1\"\n",
            "_________________________________________________________________\n",
            "Layer (type)                 Output Shape              Param #   \n",
            "=================================================================\n",
            "conv2d_1 (Conv2D)            (None, 50, 50, 32)        2432      \n",
            "_________________________________________________________________\n",
            "activation_1 (Activation)    (None, 50, 50, 32)        0         \n",
            "_________________________________________________________________\n",
            "conv2d_2 (Conv2D)            (None, 48, 48, 64)        18496     \n",
            "_________________________________________________________________\n",
            "activation_2 (Activation)    (None, 48, 48, 64)        0         \n",
            "_________________________________________________________________\n",
            "max_pooling2d_1 (MaxPooling2 (None, 24, 24, 64)        0         \n",
            "_________________________________________________________________\n",
            "dropout_1 (Dropout)          (None, 24, 24, 64)        0         \n",
            "_________________________________________________________________\n",
            "conv2d_3 (Conv2D)            (None, 24, 24, 64)        36928     \n",
            "_________________________________________________________________\n",
            "activation_3 (Activation)    (None, 24, 24, 64)        0         \n",
            "_________________________________________________________________\n",
            "conv2d_4 (Conv2D)            (None, 22, 22, 64)        36928     \n",
            "_________________________________________________________________\n",
            "activation_4 (Activation)    (None, 22, 22, 64)        0         \n",
            "_________________________________________________________________\n",
            "max_pooling2d_2 (MaxPooling2 (None, 11, 11, 64)        0         \n",
            "_________________________________________________________________\n",
            "dropout_2 (Dropout)          (None, 11, 11, 64)        0         \n",
            "_________________________________________________________________\n",
            "time_distributed_1 (TimeDist (None, 11, 704)           0         \n",
            "_________________________________________________________________\n",
            "lstm_1 (LSTM)                (None, 200)               724000    \n",
            "_________________________________________________________________\n",
            "dropout_3 (Dropout)          (None, 200)               0         \n",
            "_________________________________________________________________\n",
            "dense_1 (Dense)              (None, 128)               25728     \n",
            "_________________________________________________________________\n",
            "activation_5 (Activation)    (None, 128)               0         \n",
            "_________________________________________________________________\n",
            "dropout_4 (Dropout)          (None, 128)               0         \n",
            "_________________________________________________________________\n",
            "dense_2 (Dense)              (None, 10)                1290      \n",
            "_________________________________________________________________\n",
            "activation_6 (Activation)    (None, 10)                0         \n",
            "=================================================================\n",
            "Total params: 845,802\n",
            "Trainable params: 845,802\n",
            "Non-trainable params: 0\n",
            "_________________________________________________________________\n",
            "None\n"
          ],
          "name": "stdout"
        }
      ]
    },
    {
      "cell_type": "code",
      "metadata": {
        "id": "VohbTOm4gHlG",
        "outputId": "d83b616a-f270-4a81-aac6-e65cd4bf966b",
        "colab": {
          "base_uri": "https://localhost:8080/",
          "height": 1000
        }
      },
      "source": [
        "rom keras.optimizers import RMSprop, SGD, Adam\n",
        "from keras.callbacks import ModelCheckpoint, EarlyStopping, ReduceLROnPlateau\n",
        "\n",
        "\n",
        "checkpoint = ModelCheckpoint(\"./gdrive/My Drive/cnn_lstm_hg_aug.h5\",\n",
        "                             monitor=\"val_acc\",\n",
        "                             mode=\"max\",\n",
        "                             save_best_only = True,\n",
        "                             verbose=1)\n",
        "\n",
        "earlystop = EarlyStopping(monitor = 'val_acc',\n",
        "                          patience = 10,\n",
        "                          verbose = 1,\n",
        "                          restore_best_weights = True,\n",
        "                          mode=\"max\")\n",
        "\n",
        "reduce_lr = ReduceLROnPlateau(monitor = 'val_acc', factor = 0.1, patience = 7, verbose = 1, min_delta = 1e-4, mode=\"max\")\n",
        "\n",
        "# we put our call backs into a callback list\n",
        "callbacks = [earlystop, checkpoint, reduce_lr]\n",
        "\n",
        "# We use a very small learning rate\n",
        "# we put our call backs into a callback list\n",
        "#callbacks = [earlystop, checkpoint, reduce_lr]\n",
        "\n",
        "# We use a very small learning rate\n",
        "sgd = optimizers.SGD(lr=0.001, momentum=0.9, nesterov=True)\n",
        "model.compile(optimizer=sgd, loss='categorical_crossentropy', metrics=['accuracy'])\n",
        "\n",
        "nb_train_samples = 7000\n",
        "nb_validation_samples = 3000\n",
        "epochs = 100\n",
        "\n",
        "history = model.fit_generator(\n",
        "    train_generator,\n",
        "    steps_per_epoch = nb_train_samples /16,\n",
        "    epochs = epochs,\n",
        "    callbacks = callbacks,\n",
        "    validation_data = validation_generator,\n",
        "    validation_steps = nb_validation_samples /16)"
      ],
      "execution_count": null,
      "outputs": [
        {
          "output_type": "stream",
          "text": [
            "WARNING:tensorflow:From /usr/local/lib/python3.6/dist-packages/tensorflow_core/python/ops/math_grad.py:1424: where (from tensorflow.python.ops.array_ops) is deprecated and will be removed in a future version.\n",
            "Instructions for updating:\n",
            "Use tf.where in 2.0, which has the same broadcast rule as np.where\n",
            "WARNING:tensorflow:From /usr/local/lib/python3.6/dist-packages/keras/backend/tensorflow_backend.py:1033: The name tf.assign_add is deprecated. Please use tf.compat.v1.assign_add instead.\n",
            "\n",
            "WARNING:tensorflow:From /usr/local/lib/python3.6/dist-packages/keras/backend/tensorflow_backend.py:1020: The name tf.assign is deprecated. Please use tf.compat.v1.assign instead.\n",
            "\n",
            "WARNING:tensorflow:From /usr/local/lib/python3.6/dist-packages/keras/backend/tensorflow_backend.py:3005: The name tf.Session is deprecated. Please use tf.compat.v1.Session instead.\n",
            "\n",
            "Epoch 1/100\n",
            "WARNING:tensorflow:From /usr/local/lib/python3.6/dist-packages/keras/backend/tensorflow_backend.py:190: The name tf.get_default_session is deprecated. Please use tf.compat.v1.get_default_session instead.\n",
            "\n",
            "WARNING:tensorflow:From /usr/local/lib/python3.6/dist-packages/keras/backend/tensorflow_backend.py:197: The name tf.ConfigProto is deprecated. Please use tf.compat.v1.ConfigProto instead.\n",
            "\n",
            "WARNING:tensorflow:From /usr/local/lib/python3.6/dist-packages/keras/backend/tensorflow_backend.py:207: The name tf.global_variables is deprecated. Please use tf.compat.v1.global_variables instead.\n",
            "\n",
            "WARNING:tensorflow:From /usr/local/lib/python3.6/dist-packages/keras/backend/tensorflow_backend.py:216: The name tf.is_variable_initialized is deprecated. Please use tf.compat.v1.is_variable_initialized instead.\n",
            "\n",
            "WARNING:tensorflow:From /usr/local/lib/python3.6/dist-packages/keras/backend/tensorflow_backend.py:223: The name tf.variables_initializer is deprecated. Please use tf.compat.v1.variables_initializer instead.\n",
            "\n",
            "438/437 [==============================] - 3050s 7s/step - loss: 2.3018 - acc: 0.1045 - val_loss: 2.2960 - val_acc: 0.1407\n",
            "\n",
            "Epoch 00001: val_acc improved from -inf to 0.14067, saving model to ./gdrive/My Drive/cnn_lstm_stand_aug.h5\n",
            "Epoch 2/100\n",
            "438/437 [==============================] - 258s 590ms/step - loss: 2.2892 - acc: 0.1146 - val_loss: 2.2687 - val_acc: 0.1700\n",
            "\n",
            "Epoch 00002: val_acc improved from 0.14067 to 0.17000, saving model to ./gdrive/My Drive/cnn_lstm_stand_aug.h5\n",
            "Epoch 3/100\n",
            "438/437 [==============================] - 246s 561ms/step - loss: 2.2573 - acc: 0.1473 - val_loss: 2.1935 - val_acc: 0.1773\n",
            "\n",
            "Epoch 00003: val_acc improved from 0.17000 to 0.17733, saving model to ./gdrive/My Drive/cnn_lstm_stand_aug.h5\n",
            "Epoch 4/100\n",
            "438/437 [==============================] - 257s 587ms/step - loss: 2.1641 - acc: 0.1839 - val_loss: 2.0389 - val_acc: 0.2183\n",
            "\n",
            "Epoch 00004: val_acc improved from 0.17733 to 0.21833, saving model to ./gdrive/My Drive/cnn_lstm_stand_aug.h5\n",
            "Epoch 5/100\n",
            "438/437 [==============================] - 256s 584ms/step - loss: 2.0561 - acc: 0.2150 - val_loss: 2.0466 - val_acc: 0.2320\n",
            "\n",
            "Epoch 00005: val_acc improved from 0.21833 to 0.23200, saving model to ./gdrive/My Drive/cnn_lstm_stand_aug.h5\n",
            "Epoch 6/100\n",
            "438/437 [==============================] - 245s 559ms/step - loss: 2.0001 - acc: 0.2253 - val_loss: 1.9569 - val_acc: 0.2170\n",
            "\n",
            "Epoch 00006: val_acc did not improve from 0.23200\n",
            "Epoch 7/100\n",
            "438/437 [==============================] - 247s 564ms/step - loss: 1.9640 - acc: 0.2409 - val_loss: 1.8790 - val_acc: 0.2600\n",
            "\n",
            "Epoch 00007: val_acc improved from 0.23200 to 0.26000, saving model to ./gdrive/My Drive/cnn_lstm_stand_aug.h5\n",
            "Epoch 8/100\n",
            "438/437 [==============================] - 250s 572ms/step - loss: 1.9277 - acc: 0.2439 - val_loss: 1.8367 - val_acc: 0.2557\n",
            "\n",
            "Epoch 00008: val_acc did not improve from 0.26000\n",
            "Epoch 9/100\n",
            "438/437 [==============================] - 246s 563ms/step - loss: 1.8994 - acc: 0.2568 - val_loss: 1.7866 - val_acc: 0.3363\n",
            "\n",
            "Epoch 00009: val_acc improved from 0.26000 to 0.33633, saving model to ./gdrive/My Drive/cnn_lstm_stand_aug.h5\n",
            "Epoch 10/100\n",
            "438/437 [==============================] - 246s 561ms/step - loss: 1.8577 - acc: 0.2845 - val_loss: 1.7012 - val_acc: 0.3523\n",
            "\n",
            "Epoch 00010: val_acc improved from 0.33633 to 0.35233, saving model to ./gdrive/My Drive/cnn_lstm_stand_aug.h5\n",
            "Epoch 11/100\n",
            "438/437 [==============================] - 246s 562ms/step - loss: 1.8136 - acc: 0.3129 - val_loss: 1.5998 - val_acc: 0.4130\n",
            "\n",
            "Epoch 00011: val_acc improved from 0.35233 to 0.41300, saving model to ./gdrive/My Drive/cnn_lstm_stand_aug.h5\n",
            "Epoch 12/100\n",
            "438/437 [==============================] - 245s 560ms/step - loss: 1.7279 - acc: 0.3439 - val_loss: 1.4887 - val_acc: 0.4553\n",
            "\n",
            "Epoch 00012: val_acc improved from 0.41300 to 0.45533, saving model to ./gdrive/My Drive/cnn_lstm_stand_aug.h5\n",
            "Epoch 13/100\n",
            "438/437 [==============================] - 245s 559ms/step - loss: 1.5942 - acc: 0.3868 - val_loss: 1.2743 - val_acc: 0.4777\n",
            "\n",
            "Epoch 00013: val_acc improved from 0.45533 to 0.47767, saving model to ./gdrive/My Drive/cnn_lstm_stand_aug.h5\n",
            "Epoch 14/100\n",
            "438/437 [==============================] - 246s 563ms/step - loss: 1.4781 - acc: 0.4199 - val_loss: 1.1946 - val_acc: 0.5330\n",
            "\n",
            "Epoch 00014: val_acc improved from 0.47767 to 0.53300, saving model to ./gdrive/My Drive/cnn_lstm_stand_aug.h5\n",
            "Epoch 15/100\n",
            "438/437 [==============================] - 247s 563ms/step - loss: 1.3719 - acc: 0.4475 - val_loss: 1.1074 - val_acc: 0.5517\n",
            "\n",
            "Epoch 00015: val_acc improved from 0.53300 to 0.55167, saving model to ./gdrive/My Drive/cnn_lstm_stand_aug.h5\n",
            "Epoch 16/100\n",
            "438/437 [==============================] - 244s 558ms/step - loss: 1.2802 - acc: 0.4786 - val_loss: 1.0132 - val_acc: 0.6057\n",
            "\n",
            "Epoch 00016: val_acc improved from 0.55167 to 0.60567, saving model to ./gdrive/My Drive/cnn_lstm_stand_aug.h5\n",
            "Epoch 17/100\n",
            "438/437 [==============================] - 244s 557ms/step - loss: 1.2133 - acc: 0.5061 - val_loss: 1.0363 - val_acc: 0.5980\n",
            "\n",
            "Epoch 00017: val_acc did not improve from 0.60567\n",
            "Epoch 18/100\n",
            "438/437 [==============================] - 245s 560ms/step - loss: 1.1383 - acc: 0.5412 - val_loss: 0.8134 - val_acc: 0.6983\n",
            "\n",
            "Epoch 00018: val_acc improved from 0.60567 to 0.69833, saving model to ./gdrive/My Drive/cnn_lstm_stand_aug.h5\n",
            "Epoch 19/100\n",
            "438/437 [==============================] - 246s 561ms/step - loss: 1.0565 - acc: 0.5748 - val_loss: 0.7355 - val_acc: 0.7277\n",
            "\n",
            "Epoch 00019: val_acc improved from 0.69833 to 0.72767, saving model to ./gdrive/My Drive/cnn_lstm_stand_aug.h5\n",
            "Epoch 20/100\n",
            "438/437 [==============================] - 245s 559ms/step - loss: 0.9808 - acc: 0.6116 - val_loss: 0.8548 - val_acc: 0.6453\n",
            "\n",
            "Epoch 00020: val_acc did not improve from 0.72767\n",
            "Epoch 21/100\n",
            "438/437 [==============================] - 248s 566ms/step - loss: 0.9002 - acc: 0.6517 - val_loss: 0.6553 - val_acc: 0.7840\n",
            "\n",
            "Epoch 00021: val_acc improved from 0.72767 to 0.78400, saving model to ./gdrive/My Drive/cnn_lstm_stand_aug.h5\n",
            "Epoch 22/100\n",
            "438/437 [==============================] - 247s 565ms/step - loss: 0.8268 - acc: 0.6889 - val_loss: 0.5750 - val_acc: 0.8127\n",
            "\n",
            "Epoch 00022: val_acc improved from 0.78400 to 0.81267, saving model to ./gdrive/My Drive/cnn_lstm_stand_aug.h5\n",
            "Epoch 23/100\n",
            "438/437 [==============================] - 245s 560ms/step - loss: 0.7408 - acc: 0.7296 - val_loss: 0.4664 - val_acc: 0.8550\n",
            "\n",
            "Epoch 00023: val_acc improved from 0.81267 to 0.85500, saving model to ./gdrive/My Drive/cnn_lstm_stand_aug.h5\n",
            "Epoch 24/100\n",
            "438/437 [==============================] - 247s 564ms/step - loss: 0.6552 - acc: 0.7663 - val_loss: 0.3926 - val_acc: 0.8597\n",
            "\n",
            "Epoch 00024: val_acc improved from 0.85500 to 0.85967, saving model to ./gdrive/My Drive/cnn_lstm_stand_aug.h5\n",
            "Epoch 25/100\n",
            "438/437 [==============================] - 247s 565ms/step - loss: 0.5886 - acc: 0.8007 - val_loss: 0.2557 - val_acc: 0.9360\n",
            "\n",
            "Epoch 00025: val_acc improved from 0.85967 to 0.93600, saving model to ./gdrive/My Drive/cnn_lstm_stand_aug.h5\n",
            "Epoch 26/100\n",
            "438/437 [==============================] - 247s 563ms/step - loss: 0.5268 - acc: 0.8178 - val_loss: 0.2467 - val_acc: 0.9247\n",
            "\n",
            "Epoch 00026: val_acc did not improve from 0.93600\n",
            "Epoch 27/100\n",
            "438/437 [==============================] - 248s 565ms/step - loss: 0.4711 - acc: 0.8446 - val_loss: 0.2167 - val_acc: 0.9400\n",
            "\n",
            "Epoch 00027: val_acc improved from 0.93600 to 0.94000, saving model to ./gdrive/My Drive/cnn_lstm_stand_aug.h5\n",
            "Epoch 28/100\n",
            "438/437 [==============================] - 250s 571ms/step - loss: 0.4097 - acc: 0.8634 - val_loss: 0.1766 - val_acc: 0.9463\n",
            "\n",
            "Epoch 00028: val_acc improved from 0.94000 to 0.94633, saving model to ./gdrive/My Drive/cnn_lstm_stand_aug.h5\n",
            "Epoch 29/100\n",
            "438/437 [==============================] - 249s 569ms/step - loss: 0.3797 - acc: 0.8760 - val_loss: 0.3403 - val_acc: 0.8707\n",
            "\n",
            "Epoch 00029: val_acc did not improve from 0.94633\n",
            "Epoch 30/100\n",
            "438/437 [==============================] - 250s 571ms/step - loss: 0.3505 - acc: 0.8876 - val_loss: 0.1245 - val_acc: 0.9783\n",
            "\n",
            "Epoch 00030: val_acc improved from 0.94633 to 0.97833, saving model to ./gdrive/My Drive/cnn_lstm_stand_aug.h5\n",
            "Epoch 31/100\n",
            "438/437 [==============================] - 247s 564ms/step - loss: 0.3043 - acc: 0.8990 - val_loss: 0.1711 - val_acc: 0.9517\n",
            "\n",
            "Epoch 00031: val_acc did not improve from 0.97833\n",
            "Epoch 32/100\n",
            "438/437 [==============================] - 248s 565ms/step - loss: 0.2799 - acc: 0.9057 - val_loss: 0.1174 - val_acc: 0.9700\n",
            "\n",
            "Epoch 00032: val_acc did not improve from 0.97833\n",
            "Epoch 33/100\n",
            "438/437 [==============================] - 247s 564ms/step - loss: 0.2781 - acc: 0.9091 - val_loss: 0.2006 - val_acc: 0.9300\n",
            "\n",
            "Epoch 00033: val_acc did not improve from 0.97833\n",
            "Epoch 34/100\n",
            "438/437 [==============================] - 249s 568ms/step - loss: 0.2342 - acc: 0.9282 - val_loss: 0.1242 - val_acc: 0.9687\n",
            "\n",
            "Epoch 00034: val_acc did not improve from 0.97833\n",
            "Epoch 35/100\n",
            "438/437 [==============================] - 245s 558ms/step - loss: 0.2270 - acc: 0.9272 - val_loss: 0.0933 - val_acc: 0.9780\n",
            "\n",
            "Epoch 00035: val_acc did not improve from 0.97833\n",
            "Epoch 36/100\n",
            "438/437 [==============================] - 248s 565ms/step - loss: 0.2194 - acc: 0.9322 - val_loss: 0.0864 - val_acc: 0.9760\n",
            "\n",
            "Epoch 00036: val_acc did not improve from 0.97833\n",
            "Epoch 37/100\n",
            "438/437 [==============================] - 251s 573ms/step - loss: 0.2122 - acc: 0.9298 - val_loss: 0.2049 - val_acc: 0.9460\n",
            "\n",
            "Epoch 00037: val_acc did not improve from 0.97833\n",
            "\n",
            "Epoch 00037: ReduceLROnPlateau reducing learning rate to 0.00010000000474974513.\n",
            "Epoch 38/100\n",
            "438/437 [==============================] - 263s 599ms/step - loss: 0.1825 - acc: 0.9453 - val_loss: 0.0819 - val_acc: 0.9830\n",
            "\n",
            "Epoch 00038: val_acc improved from 0.97833 to 0.98300, saving model to ./gdrive/My Drive/cnn_lstm_stand_aug.h5\n",
            "Epoch 39/100\n",
            "438/437 [==============================] - 259s 591ms/step - loss: 0.1548 - acc: 0.9539 - val_loss: 0.0881 - val_acc: 0.9800\n",
            "\n",
            "Epoch 00039: val_acc did not improve from 0.98300\n",
            "Epoch 40/100\n",
            "438/437 [==============================] - 252s 576ms/step - loss: 0.1538 - acc: 0.9533 - val_loss: 0.0787 - val_acc: 0.9843\n",
            "\n",
            "Epoch 00040: val_acc improved from 0.98300 to 0.98433, saving model to ./gdrive/My Drive/cnn_lstm_stand_aug.h5\n",
            "Epoch 41/100\n",
            "438/437 [==============================] - 258s 589ms/step - loss: 0.1473 - acc: 0.9583 - val_loss: 0.0820 - val_acc: 0.9807\n",
            "\n",
            "Epoch 00041: val_acc did not improve from 0.98433\n",
            "Epoch 42/100\n",
            "438/437 [==============================] - 260s 595ms/step - loss: 0.1512 - acc: 0.9539 - val_loss: 0.0849 - val_acc: 0.9793\n",
            "\n",
            "Epoch 00042: val_acc did not improve from 0.98433\n",
            "Epoch 43/100\n",
            "438/437 [==============================] - 265s 604ms/step - loss: 0.1520 - acc: 0.9563 - val_loss: 0.0774 - val_acc: 0.9853\n",
            "\n",
            "Epoch 00043: val_acc improved from 0.98433 to 0.98533, saving model to ./gdrive/My Drive/cnn_lstm_stand_aug.h5\n",
            "Epoch 44/100\n",
            "438/437 [==============================] - 246s 561ms/step - loss: 0.1425 - acc: 0.9583 - val_loss: 0.0782 - val_acc: 0.9840\n",
            "\n",
            "Epoch 00044: val_acc did not improve from 0.98533\n",
            "Epoch 45/100\n",
            "438/437 [==============================] - 247s 563ms/step - loss: 0.1449 - acc: 0.9569 - val_loss: 0.0798 - val_acc: 0.9833\n",
            "\n",
            "Epoch 00045: val_acc did not improve from 0.98533\n",
            "Epoch 46/100\n",
            "438/437 [==============================] - 247s 564ms/step - loss: 0.1437 - acc: 0.9562 - val_loss: 0.0866 - val_acc: 0.9817\n",
            "\n",
            "Epoch 00046: val_acc did not improve from 0.98533\n",
            "Epoch 47/100\n",
            "438/437 [==============================] - 249s 567ms/step - loss: 0.1383 - acc: 0.9592 - val_loss: 0.0907 - val_acc: 0.9793\n",
            "\n",
            "Epoch 00047: val_acc did not improve from 0.98533\n",
            "Epoch 48/100\n",
            "438/437 [==============================] - 250s 571ms/step - loss: 0.1319 - acc: 0.9605 - val_loss: 0.0740 - val_acc: 0.9827\n",
            "\n",
            "Epoch 00048: val_acc did not improve from 0.98533\n",
            "Epoch 49/100\n",
            "438/437 [==============================] - 258s 588ms/step - loss: 0.1318 - acc: 0.9610 - val_loss: 0.0688 - val_acc: 0.9840\n",
            "\n",
            "Epoch 00049: val_acc did not improve from 0.98533\n",
            "Epoch 50/100\n",
            "438/437 [==============================] - 253s 579ms/step - loss: 0.1373 - acc: 0.9615 - val_loss: 0.0708 - val_acc: 0.9840\n",
            "\n",
            "Epoch 00050: val_acc did not improve from 0.98533\n",
            "\n",
            "Epoch 00050: ReduceLROnPlateau reducing learning rate to 1.0000000474974514e-05.\n",
            "Epoch 51/100\n",
            "438/437 [==============================] - 253s 578ms/step - loss: 0.1357 - acc: 0.9598 - val_loss: 0.0739 - val_acc: 0.9837\n",
            "\n",
            "Epoch 00051: val_acc did not improve from 0.98533\n",
            "Epoch 52/100\n",
            "438/437 [==============================] - 253s 578ms/step - loss: 0.1338 - acc: 0.9582 - val_loss: 0.0773 - val_acc: 0.9837\n",
            "\n",
            "Epoch 00052: val_acc did not improve from 0.98533\n",
            "Epoch 53/100\n",
            "438/437 [==============================] - 253s 578ms/step - loss: 0.1266 - acc: 0.9612 - val_loss: 0.0739 - val_acc: 0.9837\n",
            "Restoring model weights from the end of the best epoch\n",
            "\n",
            "Epoch 00053: val_acc did not improve from 0.98533\n",
            "Epoch 00053: early stopping\n"
          ],
          "name": "stdout"
        }
      ]
    },
    {
      "cell_type": "code",
      "metadata": {
        "id": "xZft8QU_iOtn",
        "outputId": "ac39f2bf-51fe-4f4b-efbf-288ec5e3c8aa",
        "colab": {
          "base_uri": "https://localhost:8080/",
          "height": 544
        }
      },
      "source": [
        "from sklearn.metrics import classification_report, confusion_matrix\n",
        "import numpy as np\n",
        "\n",
        "#Confution Matrix and Classification Report\n",
        "Y_pred = model.predict_generator(validation_generator, nb_validation_samples // batch_size+1)\n",
        "y_pred = np.argmax(Y_pred, axis=1)\n",
        "print('Confusion Matrix')\n",
        "print(confusion_matrix(validation_generator.classes, y_pred))\n",
        "print('Classification Report')\n",
        "target_names = list(class_labels.values())\n",
        "print(classification_report(validation_generator.classes, y_pred, target_names=target_names))"
      ],
      "execution_count": null,
      "outputs": [
        {
          "output_type": "stream",
          "text": [
            "Confusion Matrix\n",
            "[[295   0   1   0   0   1   3   0   0   0]\n",
            " [  2 292   3   1   0   2   0   0   0   0]\n",
            " [  0   0 294   0   1   0   0   0   1   4]\n",
            " [  0   0  16 283   0   0   0   0   1   0]\n",
            " [  0   0   0   0 300   0   0   0   0   0]\n",
            " [  0   0   0   0   0 300   0   0   0   0]\n",
            " [  0   0   0   0   0   0 300   0   0   0]\n",
            " [  0   0   0   0   0   1   0 294   3   2]\n",
            " [  0   0   0   0   0   0   0   2 298   0]\n",
            " [  0   0   0   0   0   0   0   0   0 300]]\n",
            "Classification Report\n",
            "              precision    recall  f1-score   support\n",
            "\n",
            "          01       0.99      0.98      0.99       300\n",
            "          02       1.00      0.97      0.99       300\n",
            "          03       0.94      0.98      0.96       300\n",
            "          04       1.00      0.94      0.97       300\n",
            "          05       1.00      1.00      1.00       300\n",
            "          06       0.99      1.00      0.99       300\n",
            "          07       0.99      1.00      1.00       300\n",
            "          08       0.99      0.98      0.99       300\n",
            "          09       0.98      0.99      0.99       300\n",
            "          10       0.98      1.00      0.99       300\n",
            "\n",
            "    accuracy                           0.99      3000\n",
            "   macro avg       0.99      0.99      0.99      3000\n",
            "weighted avg       0.99      0.99      0.99      3000\n",
            "\n"
          ],
          "name": "stdout"
        }
      ]
    },
    {
      "cell_type": "code",
      "metadata": {
        "id": "4a9N1m-ed71U",
        "outputId": "06fe5751-4620-421c-e896-ebce7d059216",
        "colab": {
          "base_uri": "https://localhost:8080/",
          "height": 1000
        }
      },
      "source": [
        "import matplotlib.pyplot as plt\n",
        "import sklearn\n",
        "from sklearn.metrics import classification_report, confusion_matrix\n",
        "import numpy as np\n",
        "from keras.models import load_model\n",
        "\n",
        "img_row, img_height, img_depth = 32,32,3\n",
        "model = load_model('./gdrive/My Drive/cnn_lstm_stand_aug.h5')\n",
        "\n",
        "class_labels = validation_generator.class_indices\n",
        "class_labels = {v: k for k, v in class_labels.items()}\n",
        "classes = list(class_labels.values())\n",
        "\n",
        "nb_train_samples = 7000\n",
        "nb_validation_samples = 3000\n",
        "\n",
        "#Confution Matrix and Classification Report\n",
        "Y_pred = model.predict_generator(validation_generator, nb_validation_samples // batch_size+1)\n",
        "y_pred = np.argmax(Y_pred, axis=1)\n",
        "\n",
        "target_names = list(class_labels.values())\n",
        "\n",
        "plt.figure(figsize=(20,20))\n",
        "cnf_matrix = confusion_matrix(validation_generator.classes, y_pred)\n",
        "\n",
        "plt.imshow(cnf_matrix, interpolation='nearest')\n",
        "plt.colorbar()\n",
        "tick_marks = np.arange(len(classes))\n",
        "_ = plt.xticks(tick_marks, classes, rotation=90)\n",
        "_ = plt.yticks(tick_marks, classes)"
      ],
      "execution_count": null,
      "outputs": [
        {
          "output_type": "display_data",
          "data": {
            "image/png": "[encoded data removed]",
            "text/plain": [
              "<Figure size 1440x1440 with 2 Axes>"
            ]
          },
          "metadata": {
            "tags": []
          }
        }
      ]
    },
    {
      "cell_type": "code",
      "metadata": {
        "id": "3whJwkXWiCD-",
        "outputId": "6cad1582-316a-4764-f5cc-6ec64ba028fe",
        "colab": {
          "base_uri": "https://localhost:8080/",
          "height": 295
        }
      },
      "source": [
        "plt.plot(history.history['acc'])\n",
        "plt.plot(history.history['val_acc'])\n",
        "plt.title('model accuracy')\n",
        "plt.ylabel('accuracy')\n",
        "plt.xlabel('epoch')\n",
        "plt.legend(['train', 'test'], loc='upper left')\n",
        "plt.show()"
      ],
      "execution_count": null,
      "outputs": [
        {
          "output_type": "display_data",
          "data": {
            "image/png": "[encoded data removed]",
            "text/plain": [
              "<Figure size 432x288 with 1 Axes>"
            ]
          },
          "metadata": {
            "tags": []
          }
        }
      ]
    },
    {
      "cell_type": "code",
      "metadata": {
        "id": "OZL3wLt7iHTK",
        "outputId": "3e28a330-c315-4b0c-dcd2-571ca9884668",
        "colab": {
          "base_uri": "https://localhost:8080/",
          "height": 295
        }
      },
      "source": [
        "plt.plot(history.history['loss'])\n",
        "plt.plot(history.history['val_loss'])\n",
        "plt.title('model loss')\n",
        "plt.ylabel('loss')\n",
        "plt.xlabel('epoch')\n",
        "plt.legend(['train', 'test'], loc='upper left')\n",
        "plt.show()"
      ],
      "execution_count": null,
      "outputs": [
        {
          "output_type": "display_data",
          "data": {
            "image/png": "[encoded data removed]",
            "text/plain": [
              "<Figure size 432x288 with 1 Axes>"
            ]
          },
          "metadata": {
            "tags": []
          }
        }
      ]
    },
    {
      "cell_type": "code",
      "metadata": {
        "id": "7BIq4dVRmhuD"
      },
      "source": [
        "import numpy as np\n",
        "cm1 = np.array([[295,   0,   1  , 0 ,  0  , 1,   3,   0,   0 ,  0],\n",
        "                [  2, 292,   3,   1,   0,   2,   0,   0,   0,   0],\n",
        "                [  0 ,  0 ,294 ,  0 ,  1,   0,   0,   0 ,  1 ,  4],\n",
        "                [  0,   0,  16, 283,   0 ,  0,   0 ,  0 ,  1 ,  0],\n",
        "                [  0 ,  0,   0,   0 ,300,   0,   0,   0,   0,   0],\n",
        "                [  0 ,  0,   0,   0,   0 ,300 ,  0 ,  0 ,  0,   0],\n",
        "                [  0,   0,   0,  0   ,0 ,  0, 300,   0,   0,   0],\n",
        "                [  0 ,  0,   0,   0 ,  0,   1,   0 ,294 ,  3,   2],\n",
        "                [  0  , 0 ,  0 ,  0 ,  0 ,  0  , 0,   2 ,298,   0],\n",
        "                [  0  , 0,   0 ,  0 ,  0 ,  0,   0,   0,   0 ,300]])"
      ],
      "execution_count": null,
      "outputs": []
    },
    {
      "cell_type": "code",
      "metadata": {
        "id": "xd4roCWBnweu"
      },
      "source": [
        "def precision(label, confusion_matrix):\n",
        "    col = confusion_matrix[:, label]\n",
        "    return confusion_matrix[label, label] / col.sum()"
      ],
      "execution_count": null,
      "outputs": []
    },
    {
      "cell_type": "code",
      "metadata": {
        "id": "zIgc-Jq9nzKK"
      },
      "source": [
        "def recall(label, confusion_matrix):\n",
        "    row = confusion_matrix[label, :]\n",
        "    return confusion_matrix[label, label] / row.sum()"
      ],
      "execution_count": null,
      "outputs": []
    },
    {
      "cell_type": "code",
      "metadata": {
        "id": "rGmF0JG_n2ZU"
      },
      "source": [
        "def precision_macro_average(confusion_matrix):\n",
        "    rows, columns = confusion_matrix.shape\n",
        "    sum_of_precisions = 0\n",
        "    for label in range(rows):\n",
        "        sum_of_precisions += precision(label, confusion_matrix)\n",
        "    return sum_of_precisions / rows"
      ],
      "execution_count": null,
      "outputs": []
    },
    {
      "cell_type": "code",
      "metadata": {
        "id": "jxRiSjZOn5wa"
      },
      "source": [
        "def recall_macro_average(confusion_matrix):\n",
        "    rows, columns = confusion_matrix.shape\n",
        "    sum_of_recalls = 0\n",
        "    for label in range(columns):\n",
        "        sum_of_recalls += recall(label, confusion_matrix)\n",
        "    return sum_of_recalls / columns"
      ],
      "execution_count": null,
      "outputs": []
    },
    {
      "cell_type": "code",
      "metadata": {
        "id": "JTu92Dy1n84F"
      },
      "source": [
        "def accuracy(confusion_matrix):\n",
        "    diagonal_sum = confusion_matrix.trace()\n",
        "    sum_of_all_elements = confusion_matrix.sum()\n",
        "    return diagonal_sum / sum_of_all_elements"
      ],
      "execution_count": null,
      "outputs": []
    },
    {
      "cell_type": "code",
      "metadata": {
        "id": "MrnHPRUBoCS3",
        "outputId": "d859b94e-999e-434b-a20a-2ba3977eee34",
        "colab": {
          "base_uri": "https://localhost:8080/",
          "height": 253
        }
      },
      "source": [
        "print(\"label precision recall\")\n",
        "for label in range(10):\n",
        "    print(f\"{label:5d} {precision(label, cm1):9.3f} {recall(label, cm1):6.3f}\")\n",
        "print(\"precision total:\", precision_macro_average(cm1))\n",
        "print(\"recall total:\", recall_macro_average(cm1))"
      ],
      "execution_count": null,
      "outputs": [
        {
          "output_type": "stream",
          "text": [
            "label precision recall\n",
            "    0     0.993  0.983\n",
            "    1     1.000  0.973\n",
            "    2     0.936  0.980\n",
            "    3     0.996  0.943\n",
            "    4     0.997  1.000\n",
            "    5     0.987  1.000\n",
            "    6     0.990  1.000\n",
            "    7     0.993  0.980\n",
            "    8     0.983  0.993\n",
            "    9     0.980  1.000\n",
            "precision total: 0.9856803204958414\n",
            "recall total: 0.9853333333333334\n"
          ],
          "name": "stdout"
        }
      ]
    },
    {
      "cell_type": "code",
      "metadata": {
        "id": "q89F9arDoF3S",
        "outputId": "9c73f75b-33b1-4600-a535-8a128fc891f2",
        "colab": {
          "base_uri": "https://localhost:8080/",
          "height": 72
        }
      },
      "source": [
        "fmeasure1 = (2 * precision_macro_average(cm1) * recall_macro_average(cm1)) / (precision_macro_average(cm1) + recall_macro_average(cm1))\n",
        "print(\"fmeasure: \", fmeasure1)\n",
        "print(\"Accuracy: \" , accuracy(cm1))\n",
        "print(\"########################\")"
      ],
      "execution_count": null,
      "outputs": [
        {
          "output_type": "stream",
          "text": [
            "fmeasure:  0.9855067963719042\n",
            "Accuracy:  0.9853333333333333\n",
            "########################\n"
          ],
          "name": "stdout"
        }
      ]
    },
    {
      "cell_type": "code",
      "metadata": {
        "id": "B8dLvvwUx_NU",
        "outputId": "1863fcd6-731e-4b40-bf84-7147b66cb3f7",
        "colab": {
          "base_uri": "https://localhost:8080/",
          "height": 53
        }
      },
      "source": [
        "model = load_model('./gdrive/My Drive/cnn_lstm_stand_aug.h5')\n",
        "test_loss, test_acc = modetest_loss, test_acc = model.evaluate(validation_generator)\n",
        "\n",
        "#print('Test accuracy: {:2.2f}%'.format(test_acc*100))l.evaluate(validation_generator)\n",
        "\n",
        "print('Test accuracy: {:2.2f}%'.format(test_acc*100))"
      ],
      "execution_count": null,
      "outputs": [
        {
          "output_type": "stream",
          "text": [
            "188/188 [==============================] - 27s 143ms/step\n",
            "Test accuracy: 98.53%\n"
          ],
          "name": "stdout"
        }
      ]
    },
    {
      "cell_type": "code",
      "metadata": {
        "id": "lEDha1vCx9Zn",
        "outputId": "ca5194b1-284c-49d0-fdf3-4a003be5db80",
        "colab": {
          "base_uri": "https://localhost:8080/",
          "height": 72
        }
      },
      "source": [
        "score = model.evaluate(validation_generator, verbose=1)\n",
        "print('Test loss:', score[0])\n",
        "print('Test accuracy:', score[1])"
      ],
      "execution_count": null,
      "outputs": [
        {
          "output_type": "stream",
          "text": [
            "188/188 [==============================] - 27s 144ms/step\n",
            "Test loss: 0.0774126907788838\n",
            "Test accuracy: 0.9853333333333333\n"
          ],
          "name": "stdout"
        }
      ]
    },
    {
      "cell_type": "code",
      "metadata": {
        "id": "-aaXWc0a0jM3",
        "outputId": "be393024-64a6-48fa-fbb3-184f548e6a4b",
        "colab": {
          "base_uri": "https://localhost:8080/",
          "height": 35
        }
      },
      "source": [
        "validation_generator = validation_datagen.flow_from_directory(\n",
        "        validation_data_dir,\n",
        "        target_size=(img_rows, img_cols),\n",
        "        batch_size=1,\n",
        "        class_mode='categorical',\n",
        "        shuffle=False)"
      ],
      "execution_count": null,
      "outputs": [
        {
          "output_type": "stream",
          "text": [
            "Found 3000 images belonging to 10 classes.\n"
          ],
          "name": "stdout"
        }
      ]
    },
    {
      "cell_type": "code",
      "metadata": {
        "id": "YJU4K3mM0o_x",
        "outputId": "27cb371a-d861-414a-c68a-454b70d0d4ca",
        "colab": {
          "base_uri": "https://localhost:8080/",
          "height": 72
        }
      },
      "source": [
        "score = model.evaluate(validation_generator, verbose=1)\n",
        "print('Test loss:', score[0])\n",
        "print('Test accuracy:', score[1])"
      ],
      "execution_count": null,
      "outputs": [
        {
          "output_type": "stream",
          "text": [
            "3000/3000 [==============================] - 47s 16ms/step\n",
            "Test loss: 0.07741269341572843\n",
            "Test accuracy: 0.9853333333333333\n"
          ],
          "name": "stdout"
        }
      ]
    }
  ]
}